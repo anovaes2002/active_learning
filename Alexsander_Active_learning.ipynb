{
  "cells": [
    {
      "cell_type": "markdown",
      "metadata": {
        "id": "view-in-github",
        "colab_type": "text"
      },
      "source": [
        "<a href=\"https://colab.research.google.com/github/anovaes2002/active_learning/blob/main/Alexsander_Active_learning.ipynb\" target=\"_parent\"><img src=\"https://colab.research.google.com/assets/colab-badge.svg\" alt=\"Open In Colab\"/></a>"
      ]
    },
    {
      "cell_type": "code",
      "execution_count": 1,
      "id": "b06e0c37",
      "metadata": {
        "id": "b06e0c37"
      },
      "outputs": [],
      "source": [
        "#importando bibliotecas\n",
        "import matplotlib.pyplot as plt\n",
        "import numpy as np\n",
        "import tensorflow as tf\n",
        "import tensorflow_hub as hub\n",
        "from keras.layers import Dense, Conv2D, Flatten, MaxPooling2D\n",
        "\n",
        "import tensorflow_datasets as tfds\n",
        "from tensorflow import keras\n",
        "from tensorflow.keras import layers\n",
        "import re\n",
        "import string"
      ]
    },
    {
      "cell_type": "code",
      "execution_count": 2,
      "id": "f123a4e7",
      "metadata": {
        "id": "f123a4e7",
        "colab": {
          "base_uri": "https://localhost:8080/"
        },
        "outputId": "0763c9a4-b9a3-4436-ecee-4296952c9f3a"
      },
      "outputs": [
        {
          "output_type": "stream",
          "name": "stdout",
          "text": [
            "Total examples: 50000\n"
          ]
        }
      ],
      "source": [
        "#Importando dataset imdb\n",
        "# Usaremos o conjunto de dados de avaliações do IMDB para nossos experimentos.\n",
        "# Este conjunto de dados tem 50.000 revisões no total, incluindo divisões de treinamento e teste. \n",
        "# Vamos mesclar essas divisões e amostrar nossos próprios conjuntos de treinamento, validação e teste balanceados.\n",
        "\n",
        "dataset = tfds.load(\"imdb_reviews\",\n",
        "                    split         = \"train + test\",\n",
        "                    as_supervised = True,\n",
        "                    batch_size    = -1,\n",
        "                    shuffle_files = False,)\n",
        "reviews, labels = tfds.as_numpy(dataset)\n",
        "\n",
        "print(\"Total examples:\", reviews.shape[0])"
      ]
    },
    {
      "cell_type": "code",
      "source": [
        "#Definindo o tamanho do dataset\n",
        "val_split   =  2500\n",
        "test_split  =  2500\n",
        "train_split = 15000\n",
        "\n",
        "# Separando as amostras negativas e positivas para estratificação manual\n",
        "x_positives, y_positives = reviews[labels == 1], labels[labels == 1]\n",
        "x_negatives, y_negatives = reviews[labels == 0], labels[labels == 0]\n",
        "\n",
        "# Criação de divisões de treinamento, validação e teste\n",
        "x_val, y_val = (\n",
        "    tf.concat((x_positives[:val_split], x_negatives[:val_split]), 0),\n",
        "    tf.concat((y_positives[:val_split], y_negatives[:val_split]), 0),\n",
        ")\n",
        "x_test, y_test = (\n",
        "    tf.concat(\n",
        "        (\n",
        "            x_positives[val_split : val_split + test_split],\n",
        "            x_negatives[val_split : val_split + test_split],\n",
        "        ),\n",
        "        0,\n",
        "    ),\n",
        "    tf.concat(\n",
        "        (\n",
        "            y_positives[val_split : val_split + test_split],\n",
        "            y_negatives[val_split : val_split + test_split],\n",
        "        ),\n",
        "        0,\n",
        "    ),\n",
        ")\n",
        "x_train, y_train = (\n",
        "    tf.concat(\n",
        "        (\n",
        "            x_positives[val_split + test_split : val_split + test_split + train_split],\n",
        "            x_negatives[val_split + test_split : val_split + test_split + train_split],\n",
        "        ),\n",
        "        0,\n",
        "    ),\n",
        "    tf.concat(\n",
        "        (\n",
        "            y_positives[val_split + test_split : val_split + test_split + train_split],\n",
        "            y_negatives[val_split + test_split : val_split + test_split + train_split],\n",
        "        ),\n",
        "        0,\n",
        "    ),\n",
        ")\n",
        "\n",
        "# O conjunto restante de amostras é armazenado separadamente. \n",
        "# Estes são rotulados apenas como e quando necessário\n",
        "x_pool_positives, y_pool_positives = (\n",
        "    x_positives[val_split + test_split + train_split :],\n",
        "    y_positives[val_split + test_split + train_split :],\n",
        ")\n",
        "x_pool_negatives, y_pool_negatives = (\n",
        "    x_negatives[val_split + test_split + train_split :],\n",
        "    y_negatives[val_split + test_split + train_split :],\n",
        ")\n",
        "\n",
        "# Criação de conjuntos de dados para pré-busca e paralelização mais rápidas\n",
        "train_dataset = tf.data.Dataset.from_tensor_slices((x_train, y_train))\n",
        "val_dataset   = tf.data.Dataset.from_tensor_slices((x_val, y_val))\n",
        "test_dataset  = tf.data.Dataset.from_tensor_slices((x_test, y_test))\n",
        "\n",
        "pool_negatives = tf.data.Dataset.from_tensor_slices((x_pool_negatives, y_pool_negatives))\n",
        "pool_positives = tf.data.Dataset.from_tensor_slices((x_pool_positives, y_pool_positives))\n",
        "\n",
        "# Criação de Dataset Unlabel\n",
        "unlabel_dataset = (\n",
        "    pool_positives\n",
        "    .concatenate(pool_negatives)\n",
        "    .cache()\n",
        "    .shuffle(5000)\n",
        ")\n",
        "\n",
        "# Criação de Dataset FULL com somatorio de treino e pool\n",
        "full_train_dataset = (\n",
        "    train_dataset.concatenate(pool_positives)\n",
        "    .concatenate(pool_negatives)\n",
        "    .cache()\n",
        "    .shuffle(20000)\n",
        ")"
      ],
      "metadata": {
        "id": "Vi5B-AjgUFF_"
      },
      "id": "Vi5B-AjgUFF_",
      "execution_count": 3,
      "outputs": []
    },
    {
      "cell_type": "code",
      "source": [
        "# Imprime tamanho dos datasets\n",
        "print(f\"Training set size: {len(train_dataset)}\")\n",
        "print(f\"Validation set size: {len(val_dataset)}\")\n",
        "print(f\"Testing set size: {len(test_dataset)}\")\n",
        "print(f\"Unlabeled negative pool: {len(pool_negatives)}\")\n",
        "print(f\"Unlabeled positive pool: {len(pool_positives)}\")\n",
        "print(f\"Unlabel Dataset set size: {len(unlabel_dataset)}\")\n",
        "print(f\"Full Train Dataset set size: {len(full_train_dataset)}\")"
      ],
      "metadata": {
        "colab": {
          "base_uri": "https://localhost:8080/"
        },
        "id": "6lAPeOYyu4s6",
        "outputId": "dd376017-0bc6-4e0a-b7d5-90476e2df47e"
      },
      "id": "6lAPeOYyu4s6",
      "execution_count": 4,
      "outputs": [
        {
          "output_type": "stream",
          "name": "stdout",
          "text": [
            "Training set size: 30000\n",
            "Validation set size: 5000\n",
            "Testing set size: 5000\n",
            "Unlabeled negative pool: 5000\n",
            "Unlabeled positive pool: 5000\n",
            "Unlabel Dataset set size: 10000\n",
            "Full Train Dataset set size: 40000\n"
          ]
        }
      ]
    },
    {
      "cell_type": "code",
      "source": [
        "# Como estamos trabalhando com dados de texto, precisaremos codificar as sequências de texto como vetores\n",
        "# que serão passados ​​por uma camada de Embedding. \n",
        "# Para tornar esse processo de tokenização mais rápido, usamos a map()função com sua funcionalidade de paralelização.\n",
        "\n",
        "# Para tratar os textos\n",
        "def custom_standardization(input_data):\n",
        "    lowercase     = tf.strings.lower(input_data)\n",
        "    stripped_html = tf.strings.regex_replace(lowercase, \"<br />\", \" \")\n",
        "    return tf.strings.regex_replace(stripped_html, f\"[{re.escape(string.punctuation)}]\", \"\")\n",
        "\n",
        "# Vetorização dos textos\n",
        "vectorizer = layers.TextVectorization(3000, standardize=custom_standardization, output_sequence_length=150)\n",
        "\n",
        "# Adaptando o dataset\n",
        "vectorizer.adapt(train_dataset.map(lambda x, y: x, num_parallel_calls=tf.data.AUTOTUNE).batch(256))\n",
        "\n",
        "# Para vetorizar sequencia de texto\n",
        "def vectorize_text(text, label):\n",
        "    text = vectorizer(text)\n",
        "    return text, label\n",
        "\n",
        "# Para redimensionar o dataset dividindo por 100\n",
        "def batch_dataset(dataset):\n",
        "    ds = dataset.batch(100)\n",
        "    ds = ds.prefetch(buffer_size=tf.data.AUTOTUNE)\n",
        "    return ds\n"
      ],
      "metadata": {
        "id": "JqDfO1ukUePC"
      },
      "id": "JqDfO1ukUePC",
      "execution_count": 5,
      "outputs": []
    },
    {
      "cell_type": "code",
      "execution_count": 6,
      "id": "715ccd1b",
      "metadata": {
        "id": "715ccd1b"
      },
      "outputs": [],
      "source": [
        "#Aplicando a vetorização nos datasets\n",
        "train_dataset       = train_dataset.map(vectorize_text, num_parallel_calls=tf.data.AUTOTUNE).prefetch(tf.data.AUTOTUNE)\n",
        "pool_negatives      = pool_negatives.map(vectorize_text, num_parallel_calls=tf.data.AUTOTUNE)\n",
        "pool_positives      = pool_positives.map(vectorize_text, num_parallel_calls=tf.data.AUTOTUNE)\n",
        "full_train_dataset  = full_train_dataset.map(vectorize_text, num_parallel_calls=tf.data.AUTOTUNE).prefetch(tf.data.AUTOTUNE)\n",
        "unlabel_dataset     = unlabel_dataset.map(vectorize_text, num_parallel_calls=tf.data.AUTOTUNE).prefetch(tf.data.AUTOTUNE)\n",
        "\n",
        "#Reduzindo o tamanho dos datasets val e test\n",
        "val_dataset  = val_dataset.batch(16).map(vectorize_text, num_parallel_calls=tf.data.AUTOTUNE)\n",
        "test_dataset = test_dataset.batch(16).map(vectorize_text, num_parallel_calls=tf.data.AUTOTUNE)"
      ]
    },
    {
      "cell_type": "code",
      "source": [
        "#Imprime o tamanho atualizado dos datasets\n",
        "print(f\"Full Train dataset size: {len(full_train_dataset)}\")\n",
        "print(f\"Training dataset size: {len(train_dataset)}\")\n",
        "print(f\"Validation dataset size: {len(val_dataset)}\")\n",
        "print(f\"Testing dataset size: {len(test_dataset)}\")\n",
        "print(f\"Unlabeled negative pool size: {len(pool_negatives)}\")\n",
        "print(f\"Unlabeled positive pool size: {len(pool_positives)}\")\n",
        "print(f\"Unlabel dataset size: {len(unlabel_dataset)}\")"
      ],
      "metadata": {
        "colab": {
          "base_uri": "https://localhost:8080/"
        },
        "id": "kTMq1PpevdQ0",
        "outputId": "b094b835-4db9-4207-a21f-27f49cb8ffb3"
      },
      "id": "kTMq1PpevdQ0",
      "execution_count": 7,
      "outputs": [
        {
          "output_type": "stream",
          "name": "stdout",
          "text": [
            "Full Train dataset size: 40000\n",
            "Training dataset size: 30000\n",
            "Validation dataset size: 313\n",
            "Testing dataset size: 313\n",
            "Unlabeled negative pool size: 5000\n",
            "Unlabeled positive pool size: 5000\n",
            "Unlabel dataset size: 10000\n"
          ]
        }
      ]
    },
    {
      "cell_type": "code",
      "execution_count": 8,
      "id": "8c32d3b6",
      "metadata": {
        "id": "8c32d3b6"
      },
      "outputs": [],
      "source": [
        "#Épocas de treinamento\n",
        "epochs = 20"
      ]
    },
    {
      "cell_type": "code",
      "execution_count": 9,
      "id": "d73c14fe",
      "metadata": {
        "id": "d73c14fe",
        "colab": {
          "base_uri": "https://localhost:8080/"
        },
        "outputId": "a1199ca9-613c-49e3-ae66-cb5977ea554b"
      },
      "outputs": [
        {
          "output_type": "stream",
          "name": "stdout",
          "text": [
            "Model: \"sequential\"\n",
            "_________________________________________________________________\n",
            " Layer (type)                Output Shape              Param #   \n",
            "=================================================================\n",
            " embedding (Embedding)       (None, 150, 128)          384000    \n",
            "                                                                 \n",
            " bidirectional (Bidirectiona  (None, 150, 64)          41216     \n",
            " l)                                                              \n",
            "                                                                 \n",
            " global_max_pooling1d (Globa  (None, 64)               0         \n",
            " lMaxPooling1D)                                                  \n",
            "                                                                 \n",
            " dense (Dense)               (None, 20)                1300      \n",
            "                                                                 \n",
            " dropout (Dropout)           (None, 20)                0         \n",
            "                                                                 \n",
            " dense_1 (Dense)             (None, 1)                 21        \n",
            "                                                                 \n",
            "=================================================================\n",
            "Total params: 426,537\n",
            "Trainable params: 426,537\n",
            "Non-trainable params: 0\n",
            "_________________________________________________________________\n"
          ]
        }
      ],
      "source": [
        "#Definindo o modelo\n",
        "model = keras.models.Sequential(\n",
        "    [\n",
        "        layers.Input(shape=(150,)),\n",
        "        layers.Embedding(input_dim=3000, output_dim=128),\n",
        "        layers.Bidirectional(layers.LSTM(32, return_sequences=True)),\n",
        "        layers.GlobalMaxPool1D(),\n",
        "        layers.Dense(20, activation=\"relu\"),\n",
        "        layers.Dropout(0.5),\n",
        "        layers.Dense(1, activation=\"sigmoid\"),\n",
        "    ]\n",
        ")\n",
        "model.summary()"
      ]
    },
    {
      "cell_type": "code",
      "execution_count": 10,
      "id": "efdfb7b4",
      "metadata": {
        "id": "efdfb7b4"
      },
      "outputs": [],
      "source": [
        "model.compile(\n",
        "    loss      = \"binary_crossentropy\",\n",
        "    optimizer = \"rmsprop\",\n",
        "    metrics   = \"accuracy\")"
      ]
    },
    {
      "cell_type": "code",
      "execution_count": 11,
      "id": "e1e297ba",
      "metadata": {
        "colab": {
          "base_uri": "https://localhost:8080/"
        },
        "id": "e1e297ba",
        "outputId": "3461f8f7-adea-4dc8-8a6a-043d69028808"
      },
      "outputs": [
        {
          "output_type": "stream",
          "name": "stdout",
          "text": [
            "Epoch 1/20\n",
            "1250/1250 [==============================] - 30s 20ms/step - loss: 0.4236 - accuracy: 0.8112 - val_loss: 0.3461 - val_accuracy: 0.8438\n",
            "Epoch 2/20\n",
            "1250/1250 [==============================] - 24s 19ms/step - loss: 0.3320 - accuracy: 0.8660 - val_loss: 0.3185 - val_accuracy: 0.8654\n",
            "Epoch 3/20\n",
            "1250/1250 [==============================] - 23s 18ms/step - loss: 0.3027 - accuracy: 0.8798 - val_loss: 0.3092 - val_accuracy: 0.8716\n",
            "Epoch 4/20\n",
            "1250/1250 [==============================] - 25s 20ms/step - loss: 0.2770 - accuracy: 0.8896 - val_loss: 0.3037 - val_accuracy: 0.8706\n",
            "Epoch 5/20\n",
            "1250/1250 [==============================] - 24s 19ms/step - loss: 0.2538 - accuracy: 0.9006 - val_loss: 0.3129 - val_accuracy: 0.8682\n",
            "Epoch 6/20\n",
            "1250/1250 [==============================] - 23s 18ms/step - loss: 0.2316 - accuracy: 0.9109 - val_loss: 0.3101 - val_accuracy: 0.8690\n",
            "Epoch 7/20\n",
            "1250/1250 [==============================] - 22s 18ms/step - loss: 0.2084 - accuracy: 0.9213 - val_loss: 0.3366 - val_accuracy: 0.8638\n",
            "Epoch 8/20\n",
            "1250/1250 [==============================] - 24s 19ms/step - loss: 0.1852 - accuracy: 0.9319 - val_loss: 0.3740 - val_accuracy: 0.8616\n",
            "Epoch 9/20\n",
            "1250/1250 [==============================] - 24s 19ms/step - loss: 0.1606 - accuracy: 0.9426 - val_loss: 0.4513 - val_accuracy: 0.8598\n",
            "Epoch 10/20\n",
            "1250/1250 [==============================] - 23s 19ms/step - loss: 0.1352 - accuracy: 0.9521 - val_loss: 0.4304 - val_accuracy: 0.8632\n",
            "Epoch 11/20\n",
            "1250/1250 [==============================] - 24s 19ms/step - loss: 0.1115 - accuracy: 0.9615 - val_loss: 0.4830 - val_accuracy: 0.8566\n",
            "Epoch 12/20\n",
            "1250/1250 [==============================] - 26s 21ms/step - loss: 0.0908 - accuracy: 0.9709 - val_loss: 0.5193 - val_accuracy: 0.8542\n",
            "Epoch 13/20\n",
            "1250/1250 [==============================] - 24s 19ms/step - loss: 0.0744 - accuracy: 0.9765 - val_loss: 0.5913 - val_accuracy: 0.8512\n",
            "Epoch 14/20\n",
            "1250/1250 [==============================] - 24s 19ms/step - loss: 0.0588 - accuracy: 0.9819 - val_loss: 0.6480 - val_accuracy: 0.8586\n",
            "Epoch 15/20\n",
            "1250/1250 [==============================] - 23s 18ms/step - loss: 0.0456 - accuracy: 0.9860 - val_loss: 0.7076 - val_accuracy: 0.8492\n",
            "Epoch 16/20\n",
            "1250/1250 [==============================] - 24s 19ms/step - loss: 0.0368 - accuracy: 0.9887 - val_loss: 0.7618 - val_accuracy: 0.8494\n",
            "Epoch 17/20\n",
            "1250/1250 [==============================] - 23s 18ms/step - loss: 0.0293 - accuracy: 0.9906 - val_loss: 0.7843 - val_accuracy: 0.8510\n",
            "Epoch 18/20\n",
            "1250/1250 [==============================] - 23s 18ms/step - loss: 0.0219 - accuracy: 0.9940 - val_loss: 0.9157 - val_accuracy: 0.8464\n",
            "Epoch 19/20\n",
            "1250/1250 [==============================] - 23s 18ms/step - loss: 0.0209 - accuracy: 0.9940 - val_loss: 1.0694 - val_accuracy: 0.8498\n",
            "Epoch 20/20\n",
            "1250/1250 [==============================] - 24s 19ms/step - loss: 0.0170 - accuracy: 0.9952 - val_loss: 1.2742 - val_accuracy: 0.8538\n"
          ]
        }
      ],
      "source": [
        "#Para mostrar a eficácia do Active Learning, vamos primeiro treinar o modelo em todo o conjunto de dados contendo 40000 amostras. \n",
        "#Este modelo será utilizado para comparação posteriormente.\n",
        "\n",
        "history1  = model.fit(\n",
        "    full_train_dataset.batch(32),\n",
        "    epochs          = epochs,\n",
        "    validation_data = val_dataset)"
      ]
    },
    {
      "cell_type": "code",
      "execution_count": 12,
      "id": "5d7f025d",
      "metadata": {
        "colab": {
          "base_uri": "https://localhost:8080/"
        },
        "id": "5d7f025d",
        "outputId": "118a98ab-b070-4894-a5c1-0572c810f039"
      },
      "outputs": [
        {
          "output_type": "stream",
          "name": "stdout",
          "text": [
            "4/4 [==============================] - 1s 7ms/step\n",
            "4/4 [==============================] - 0s 7ms/step\n",
            "4/4 [==============================] - 0s 7ms/step\n",
            "4/4 [==============================] - 0s 7ms/step\n",
            "4/4 [==============================] - 0s 7ms/step\n",
            "4/4 [==============================] - 0s 7ms/step\n",
            "4/4 [==============================] - 0s 7ms/step\n",
            "4/4 [==============================] - 0s 7ms/step\n",
            "4/4 [==============================] - 0s 8ms/step\n",
            "4/4 [==============================] - 0s 7ms/step\n",
            "4/4 [==============================] - 0s 7ms/step\n",
            "4/4 [==============================] - 0s 8ms/step\n",
            "4/4 [==============================] - 0s 7ms/step\n",
            "4/4 [==============================] - 0s 7ms/step\n",
            "4/4 [==============================] - 0s 7ms/step\n",
            "4/4 [==============================] - 0s 7ms/step\n",
            "4/4 [==============================] - 0s 8ms/step\n",
            "4/4 [==============================] - 0s 7ms/step\n",
            "4/4 [==============================] - 0s 7ms/step\n",
            "4/4 [==============================] - 0s 7ms/step\n",
            "4/4 [==============================] - 0s 7ms/step\n",
            "4/4 [==============================] - 0s 7ms/step\n",
            "4/4 [==============================] - 0s 7ms/step\n",
            "4/4 [==============================] - 0s 7ms/step\n",
            "4/4 [==============================] - 0s 7ms/step\n",
            "4/4 [==============================] - 0s 7ms/step\n",
            "4/4 [==============================] - 0s 7ms/step\n",
            "4/4 [==============================] - 0s 7ms/step\n",
            "4/4 [==============================] - 0s 7ms/step\n",
            "4/4 [==============================] - 0s 7ms/step\n",
            "4/4 [==============================] - 0s 7ms/step\n",
            "4/4 [==============================] - 0s 7ms/step\n",
            "4/4 [==============================] - 0s 7ms/step\n",
            "4/4 [==============================] - 0s 7ms/step\n",
            "4/4 [==============================] - 0s 7ms/step\n",
            "4/4 [==============================] - 0s 7ms/step\n",
            "4/4 [==============================] - 0s 7ms/step\n",
            "4/4 [==============================] - 0s 7ms/step\n",
            "4/4 [==============================] - 0s 7ms/step\n",
            "4/4 [==============================] - 0s 7ms/step\n",
            "4/4 [==============================] - 0s 7ms/step\n",
            "4/4 [==============================] - 0s 7ms/step\n",
            "4/4 [==============================] - 0s 7ms/step\n",
            "4/4 [==============================] - 0s 7ms/step\n",
            "4/4 [==============================] - 0s 8ms/step\n",
            "4/4 [==============================] - 0s 7ms/step\n",
            "4/4 [==============================] - 0s 7ms/step\n",
            "4/4 [==============================] - 0s 7ms/step\n",
            "4/4 [==============================] - 0s 7ms/step\n",
            "4/4 [==============================] - 0s 7ms/step\n",
            "4/4 [==============================] - 0s 7ms/step\n",
            "4/4 [==============================] - 0s 7ms/step\n",
            "4/4 [==============================] - 0s 7ms/step\n",
            "4/4 [==============================] - 0s 7ms/step\n",
            "4/4 [==============================] - 0s 7ms/step\n",
            "4/4 [==============================] - 0s 7ms/step\n",
            "4/4 [==============================] - 0s 7ms/step\n",
            "4/4 [==============================] - 0s 7ms/step\n",
            "4/4 [==============================] - 0s 7ms/step\n",
            "4/4 [==============================] - 0s 7ms/step\n",
            "4/4 [==============================] - 0s 7ms/step\n",
            "4/4 [==============================] - 0s 7ms/step\n",
            "4/4 [==============================] - 0s 7ms/step\n",
            "4/4 [==============================] - 0s 7ms/step\n",
            "4/4 [==============================] - 0s 7ms/step\n",
            "4/4 [==============================] - 0s 7ms/step\n",
            "4/4 [==============================] - 0s 7ms/step\n",
            "4/4 [==============================] - 0s 7ms/step\n",
            "4/4 [==============================] - 0s 7ms/step\n",
            "4/4 [==============================] - 0s 7ms/step\n",
            "4/4 [==============================] - 0s 7ms/step\n",
            "4/4 [==============================] - 0s 7ms/step\n",
            "4/4 [==============================] - 0s 7ms/step\n",
            "4/4 [==============================] - 0s 8ms/step\n",
            "4/4 [==============================] - 0s 7ms/step\n",
            "4/4 [==============================] - 0s 7ms/step\n",
            "4/4 [==============================] - 0s 8ms/step\n",
            "4/4 [==============================] - 0s 7ms/step\n",
            "4/4 [==============================] - 0s 7ms/step\n",
            "4/4 [==============================] - 0s 7ms/step\n",
            "4/4 [==============================] - 0s 7ms/step\n",
            "4/4 [==============================] - 0s 7ms/step\n",
            "4/4 [==============================] - 0s 7ms/step\n",
            "4/4 [==============================] - 0s 7ms/step\n",
            "4/4 [==============================] - 0s 7ms/step\n",
            "4/4 [==============================] - 0s 7ms/step\n",
            "4/4 [==============================] - 0s 7ms/step\n",
            "4/4 [==============================] - 0s 8ms/step\n",
            "4/4 [==============================] - 0s 7ms/step\n",
            "4/4 [==============================] - 0s 7ms/step\n",
            "4/4 [==============================] - 0s 7ms/step\n",
            "4/4 [==============================] - 0s 7ms/step\n",
            "4/4 [==============================] - 0s 7ms/step\n",
            "4/4 [==============================] - 0s 7ms/step\n",
            "4/4 [==============================] - 0s 7ms/step\n",
            "4/4 [==============================] - 0s 7ms/step\n",
            "4/4 [==============================] - 0s 7ms/step\n",
            "4/4 [==============================] - 0s 7ms/step\n",
            "4/4 [==============================] - 0s 7ms/step\n",
            "4/4 [==============================] - 0s 7ms/step\n"
          ]
        }
      ],
      "source": [
        "# Predições\n",
        "# Carregando o modelo já treinado\n",
        "prediction_model  = tf.keras.Sequential([model, tf.keras.layers.Softmax()])\n",
        "\n",
        "# Realiza as predições do dataset unlabel\n",
        "prediction_unlabel = [prediction_model.predict(batch_unlabels)\n",
        "              for batch_unlabels, batch_labels in batch_dataset(unlabel_dataset)]\n",
        "\n",
        "# Concatena os dados retornados na linha anterior\n",
        "prediction = np.concatenate(prediction_unlabel)"
      ]
    },
    {
      "cell_type": "code",
      "execution_count": 13,
      "id": "c1aeb1ab",
      "metadata": {
        "id": "c1aeb1ab"
      },
      "outputs": [],
      "source": [
        "# Calculando a probabilidade máxima para cada amostra de acordo com o dataset não rotulado, \n",
        "# e selecionando as amostras com os menores valores até que a quantidade total em \"budget\" seja selecionada.\n",
        "\n",
        "# Melhores resultados\n",
        "bests_results = prediction.max(axis=1)\n",
        "\n",
        "# Quantidade de dados a selecionar\n",
        "target = 100\n",
        "\n",
        "# Ordenando os índices\n",
        "index_order = np.argsort(bests_results)[:target]"
      ]
    },
    {
      "cell_type": "code",
      "execution_count": 14,
      "id": "1b372a78",
      "metadata": {
        "id": "1b372a78"
      },
      "outputs": [],
      "source": [
        "# Unindo os dados do dataset unlabel\n",
        "unlabels, labels = tuple(zip(*unlabel_dataset))\n",
        "\n",
        "# Dados escolhidos baseados nas probabilidades menores\n",
        "unlabels_small = np.array(unlabels)[index_order]\n",
        "\n",
        "# Labels escolhidos baseados nas probabilidades menores\n",
        "labels_small = np.array(labels)[index_order]\n",
        "\n",
        "# Criando a lista com seus labels\n",
        "unlabel_dataset = tf.data.Dataset.from_tensor_slices((unlabels_small, labels_small))"
      ]
    },
    {
      "cell_type": "code",
      "execution_count": 15,
      "id": "f96c74d8",
      "metadata": {
        "id": "f96c74d8"
      },
      "outputs": [],
      "source": [
        "# Novo dataset contendo os dados unlabel\n",
        "# Agregando ao dataset dataset de treinamento redimensionado o dataset unlabel\n",
        "new_train_dataset = train_dataset.concatenate(unlabel_dataset)\n",
        "\n",
        "# Reduzindo o novo dataset de treinamento com o batch_dataset(100)\n",
        "new_train_dataset = batch_dataset(new_train_dataset)"
      ]
    },
    {
      "cell_type": "code",
      "source": [
        "#listando o tamanho dos datasets\n",
        "print(\"Total examples:\", reviews.shape[0])\n",
        "print(f\"Training set size: {len(train_dataset)}\")\n",
        "print(f\"New Train Dataset set size: {len(new_train_dataset)}\")\n",
        "print(f\"Validation set size: {len(val_dataset)}\")\n",
        "print(f\"Testing set size: {len(test_dataset)}\")\n",
        "print(f\"Unlabels set size: {len(unlabels)}\")\n",
        "print(f\"Labels set size: {len(labels)}\")\n",
        "print(f\"Unlabel Dataset set size: {len(unlabel_dataset)}\")"
      ],
      "metadata": {
        "colab": {
          "base_uri": "https://localhost:8080/"
        },
        "id": "ENnadLMMwzZt",
        "outputId": "8086b19e-f8bb-40b8-eeb2-5a9d716ab3cf"
      },
      "id": "ENnadLMMwzZt",
      "execution_count": 16,
      "outputs": [
        {
          "output_type": "stream",
          "name": "stdout",
          "text": [
            "Total examples: 50000\n",
            "Training set size: 30000\n",
            "New Train Dataset set size: 301\n",
            "Validation set size: 313\n",
            "Testing set size: 313\n",
            "Unlabels set size: 10000\n",
            "Labels set size: 10000\n",
            "Unlabel Dataset set size: 100\n"
          ]
        }
      ]
    },
    {
      "cell_type": "code",
      "execution_count": 17,
      "id": "f096d81b",
      "metadata": {
        "colab": {
          "base_uri": "https://localhost:8080/"
        },
        "id": "f096d81b",
        "outputId": "efa2beae-6b41-4dec-da1f-5e0720ad1e0f"
      },
      "outputs": [
        {
          "output_type": "stream",
          "name": "stdout",
          "text": [
            "Epoch 1/20\n",
            "301/301 [==============================] - 8s 27ms/step - loss: 0.0283 - accuracy: 0.9972 - val_loss: 1.7397 - val_accuracy: 0.8484\n",
            "Epoch 2/20\n",
            "301/301 [==============================] - 8s 26ms/step - loss: 0.0095 - accuracy: 0.9986 - val_loss: 2.0563 - val_accuracy: 0.8472\n",
            "Epoch 3/20\n",
            "301/301 [==============================] - 8s 27ms/step - loss: 0.0055 - accuracy: 0.9993 - val_loss: 2.7121 - val_accuracy: 0.8132\n",
            "Epoch 4/20\n",
            "301/301 [==============================] - 8s 26ms/step - loss: 0.0033 - accuracy: 0.9993 - val_loss: 2.8578 - val_accuracy: 0.8122\n",
            "Epoch 5/20\n",
            "301/301 [==============================] - 8s 28ms/step - loss: 0.0166 - accuracy: 0.9988 - val_loss: 5.7887 - val_accuracy: 0.7320\n",
            "Epoch 6/20\n",
            "301/301 [==============================] - 8s 26ms/step - loss: 0.0149 - accuracy: 0.9980 - val_loss: 4.3617 - val_accuracy: 0.7586\n",
            "Epoch 7/20\n",
            "301/301 [==============================] - 8s 26ms/step - loss: 0.0042 - accuracy: 0.9992 - val_loss: 4.3691 - val_accuracy: 0.7710\n",
            "Epoch 8/20\n",
            "301/301 [==============================] - 8s 26ms/step - loss: 0.0032 - accuracy: 0.9994 - val_loss: 5.0286 - val_accuracy: 0.7516\n",
            "Epoch 9/20\n",
            "301/301 [==============================] - 8s 26ms/step - loss: 0.0037 - accuracy: 0.9992 - val_loss: 7.2531 - val_accuracy: 0.6702\n",
            "Epoch 10/20\n",
            "301/301 [==============================] - 8s 26ms/step - loss: 0.0182 - accuracy: 0.9978 - val_loss: 7.0756 - val_accuracy: 0.7084\n",
            "Epoch 11/20\n",
            "301/301 [==============================] - 8s 26ms/step - loss: 0.0104 - accuracy: 0.9983 - val_loss: 7.7725 - val_accuracy: 0.6640\n",
            "Epoch 12/20\n",
            "301/301 [==============================] - 8s 26ms/step - loss: 0.0238 - accuracy: 0.9986 - val_loss: 11.3794 - val_accuracy: 0.6256\n",
            "Epoch 13/20\n",
            "301/301 [==============================] - 8s 27ms/step - loss: 0.0188 - accuracy: 0.9973 - val_loss: 6.5653 - val_accuracy: 0.7238\n",
            "Epoch 14/20\n",
            "301/301 [==============================] - 8s 27ms/step - loss: 0.0083 - accuracy: 0.9990 - val_loss: 8.1818 - val_accuracy: 0.6814\n",
            "Epoch 15/20\n",
            "301/301 [==============================] - 8s 26ms/step - loss: 0.0027 - accuracy: 0.9996 - val_loss: 12.5555 - val_accuracy: 0.6074\n",
            "Epoch 16/20\n",
            "301/301 [==============================] - 8s 27ms/step - loss: 0.0169 - accuracy: 0.9981 - val_loss: 12.1771 - val_accuracy: 0.6122\n",
            "Epoch 17/20\n",
            "301/301 [==============================] - 8s 26ms/step - loss: 0.0034 - accuracy: 0.9992 - val_loss: 7.1740 - val_accuracy: 0.6966\n",
            "Epoch 18/20\n",
            "301/301 [==============================] - 8s 26ms/step - loss: 0.0012 - accuracy: 0.9998 - val_loss: 10.3970 - val_accuracy: 0.6486\n",
            "Epoch 19/20\n",
            "301/301 [==============================] - 8s 26ms/step - loss: 0.0022 - accuracy: 0.9997 - val_loss: 6.3149 - val_accuracy: 0.7374\n",
            "Epoch 20/20\n",
            "301/301 [==============================] - 8s 26ms/step - loss: 0.0049 - accuracy: 0.9995 - val_loss: 7.5158 - val_accuracy: 0.7170\n"
          ]
        }
      ],
      "source": [
        "#Treinando novamente agora com os datasets reduzidos\n",
        "history2 = model.fit(new_train_dataset, \n",
        "                     validation_data = val_dataset, \n",
        "                     epochs          = epochs)"
      ]
    },
    {
      "cell_type": "code",
      "execution_count": 18,
      "id": "b7da6563",
      "metadata": {
        "colab": {
          "base_uri": "https://localhost:8080/",
          "height": 297
        },
        "id": "b7da6563",
        "outputId": "81b15cf8-18f1-4a49-f38c-1471df52b784"
      },
      "outputs": [
        {
          "output_type": "display_data",
          "data": {
            "text/plain": [
              "<Figure size 432x288 with 1 Axes>"
            ],
            "image/png": "[encoded data removed]"
          },
          "metadata": {
            "needs_background": "light"
          }
        }
      ],
      "source": [
        "#Plotando as acurácias dos dois modelos\n",
        "epochs_plot = np.arange(1, epochs + 1)\n",
        "plt.plot(epochs_plot, history1.history['accuracy'], label = 'Full Dataset')\n",
        "plt.plot(epochs_plot, history2.history['accuracy'], label = 'Active Learning')\n",
        "plt.title('Comparação de Acurácia dos modelos')\n",
        "plt.xlabel('Épocas')\n",
        "plt.ylabel('Acurácia')\n",
        "plt.legend()\n",
        "plt.show()"
      ]
    }
  ],
  "metadata": {
    "accelerator": "GPU",
    "colab": {
      "provenance": [],
      "machine_shape": "hm",
      "include_colab_link": true
    },
    "gpuClass": "premium",
    "kernelspec": {
      "display_name": "Python 3.10.5 64-bit",
      "language": "python",
      "name": "python3"
    },
    "language_info": {
      "codemirror_mode": {
        "name": "ipython",
        "version": 3
      },
      "file_extension": ".py",
      "mimetype": "text/x-python",
      "name": "python",
      "nbconvert_exporter": "python",
      "pygments_lexer": "ipython3",
      "version": "3.10.5"
    },
    "vscode": {
      "interpreter": {
        "hash": "09ab9d09769e58172906761f459bc163a0e89466ed4f026e5ecbc7e4a778c55c"
      }
    }
  },
  "nbformat": 4,
  "nbformat_minor": 5
}